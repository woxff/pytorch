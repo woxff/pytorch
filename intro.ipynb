{
  "nbformat": 4,
  "nbformat_minor": 0,
  "metadata": {
    "colab": {
      "provenance": [],
      "gpuType": "T4",
      "authorship_tag": "ABX9TyM7zjs2+jP7WUkl+cy/1HG5",
      "include_colab_link": true
    },
    "kernelspec": {
      "name": "python3",
      "display_name": "Python 3"
    },
    "language_info": {
      "name": "python"
    },
    "accelerator": "GPU"
  },
  "cells": [
    {
      "cell_type": "markdown",
      "metadata": {
        "id": "view-in-github",
        "colab_type": "text"
      },
      "source": [
        "<a href=\"https://colab.research.google.com/github/woxff/pytorch/blob/main/intro.ipynb\" target=\"_parent\"><img src=\"https://colab.research.google.com/assets/colab-badge.svg\" alt=\"Open In Colab\"/></a>"
      ]
    },
    {
      "cell_type": "code",
      "source": [
        "import torch"
      ],
      "metadata": {
        "id": "aMKxbYZ49TDe"
      },
      "execution_count": 46,
      "outputs": []
    },
    {
      "cell_type": "code",
      "source": [
        "import numpy as np"
      ],
      "metadata": {
        "id": "si1DKyjL-Rr2"
      },
      "execution_count": 49,
      "outputs": []
    },
    {
      "cell_type": "code",
      "source": [
        "import torch.nn as nn"
      ],
      "metadata": {
        "id": "ZZ8AYZHbOdfy"
      },
      "execution_count": 50,
      "outputs": []
    },
    {
      "cell_type": "code",
      "source": [
        "import torch.nn.functional as F"
      ],
      "metadata": {
        "id": "_n4NwZSoP0mK"
      },
      "execution_count": 51,
      "outputs": []
    },
    {
      "cell_type": "code",
      "source": [
        "#Create a Model Class that inherits nn.Model\n",
        "\n",
        "class Model(nn.Module):\n",
        "  # Input layer (4 features of the flower) ----- >\n",
        "   # Hidden Layer1(number of neurons)----->\n",
        "   # H2(n)---->\n",
        "   # output (3 classes of iris flowers)\n",
        "   def __init__(self, in_features=4, h1=8, h2=9, out_features=3):\n",
        "    super(Model,self).__init__() # instantiate our nn.module\n",
        "    self.fc1=nn.Linear(in_features,h1)\n",
        "    self.fc2=nn.Linear(h1,h2)\n",
        "    self.out=nn.Linear(h2,out_features)\n",
        "\n",
        "   def forward(self,x):\n",
        "    x= F.relu(self.fc1(x))\n",
        "    x= F.relu(self.fc2((x)))\n",
        "    x= self.out(x)\n",
        "\n",
        "    return x"
      ],
      "metadata": {
        "id": "_Nkzr1KLP94T"
      },
      "execution_count": 66,
      "outputs": []
    },
    {
      "cell_type": "code",
      "source": [
        "#Pick a manual seed for randomization\n",
        "torch.manual_seed(7)\n",
        "model = Model()"
      ],
      "metadata": {
        "id": "_qvu36sxX1wJ"
      },
      "execution_count": 67,
      "outputs": []
    },
    {
      "cell_type": "code",
      "source": [
        "import pandas as pd"
      ],
      "metadata": {
        "id": "-AtKXODfewpv"
      },
      "execution_count": 68,
      "outputs": []
    },
    {
      "cell_type": "code",
      "source": [
        "import matplotlib.pyplot as plt\n",
        "%matplotlib inline"
      ],
      "metadata": {
        "id": "s6L3Veh4eybm"
      },
      "execution_count": 69,
      "outputs": []
    },
    {
      "cell_type": "code",
      "source": [
        "url = 'https://gist.githubusercontent.com/netj/8836201/raw/6f9306ad21398ea43cba4f7d537619d0e07d5ae3/iris.csv'\n",
        "my_df = pd.read_csv(url)\n",
        "#my_df.tail()"
      ],
      "metadata": {
        "id": "w44RttxNfQWA"
      },
      "execution_count": 70,
      "outputs": []
    },
    {
      "cell_type": "code",
      "source": [
        "#Change last column from strings to integers\n",
        "my_df['variety'] = my_df['variety'].replace('Setosa', 0.0)\n",
        "my_df['variety'] = my_df['variety'].replace('Versicolor', 1.0)\n",
        "my_df['variety'] = my_df['variety'].replace('Virginica', 2.0)\n",
        "#my_df"
      ],
      "metadata": {
        "id": "KXA_3gieiRw5"
      },
      "execution_count": 71,
      "outputs": []
    },
    {
      "cell_type": "code",
      "source": [
        "#Train Test Split! Set X, Y"
      ],
      "metadata": {
        "id": "mZnltlFwlJCr"
      },
      "execution_count": 72,
      "outputs": []
    },
    {
      "cell_type": "code",
      "source": [
        "X = my_df.drop('variety', axis=1)\n",
        "y = my_df['variety']\n",
        "\n",
        "#Convert these to numpy arrays\n",
        "X = X.values\n",
        "y = y.values\n",
        "from sklearn.model_selection import train_test_split\n",
        "\n",
        "# Train test Split\n",
        "X_train, X_test,y_train,y_test = train_test_split(X, y, test_size = 0.2, random_state=7)\n",
        "\n",
        "# Convert X features to float tensors\n",
        "X_train = torch.FloatTensor(X_train)\n",
        "X_test = torch.FloatTensor(X_test)\n",
        "\n",
        "# Convert y labels to tensors long\n",
        "y_train = torch.LongTensor(y_train)\n",
        "y_test = torch.LongTensor(y_test)\n",
        "\n",
        "# Set the criterion of model to measure the error, how far off the predictions are from the data\n",
        "\n",
        "criterion = nn.CrossEntropyLoss()\n",
        "# Choose Adam Optimizer, lr = learning rate (if error doesn't go down after a bunch of iterations (epochs), lower our learning rate)\n",
        "optimizer = torch.optim.Adam(model.parameters(), lr = 0.01)\n",
        "\n",
        "# Train our model!\n",
        "# Epochs? (one run thru all the training data in our network)\n",
        "\n",
        "epochs = 100\n",
        "losses = []\n",
        "\n",
        "for i in range (epochs):\n",
        "  # Go forward and get prediction\n",
        "   y_pred = model.forward(X_train) # Get predicted results\n",
        "\n",
        "   # Measure the loss/error, gonna be high at first\n",
        "   loss = criterion (y_pred, y_train) # predicated value vs the y_train\n",
        "\n",
        "  # Keep Track of our losses\n",
        "\n",
        "   losses.append(loss.detach().numpy())\n",
        "\n",
        "   # print every 10 epoch\n",
        "\n",
        "   if i%10 == 0:\n",
        "    print(f'Epoch: {i} and loss: {loss}')\n",
        "\n",
        "    # Do some back propogation: take the error rate of forward propagation and feed it back\n",
        "    # thru the network to fine tune the weights\n",
        "    optimizer.zero_grad()\n",
        "    loss.backward()\n",
        "    optimizer.step()\n",
        "\n",
        "\n",
        "\n",
        "\n"
      ],
      "metadata": {
        "colab": {
          "base_uri": "https://localhost:8080/"
        },
        "id": "MyIBqx38oEEl",
        "outputId": "542e4a14-0fab-4a31-87ec-cf3eeda395aa"
      },
      "execution_count": 73,
      "outputs": [
        {
          "output_type": "stream",
          "name": "stdout",
          "text": [
            "Epoch: 0 and loss: 1.142297387123108\n",
            "Epoch: 10 and loss: 1.1200498342514038\n",
            "Epoch: 20 and loss: 1.0981889963150024\n",
            "Epoch: 30 and loss: 1.0771671533584595\n",
            "Epoch: 40 and loss: 1.0595470666885376\n",
            "Epoch: 50 and loss: 1.0438652038574219\n",
            "Epoch: 60 and loss: 1.027721643447876\n",
            "Epoch: 70 and loss: 1.012020230293274\n",
            "Epoch: 80 and loss: 0.9977449178695679\n",
            "Epoch: 90 and loss: 0.9846876859664917\n"
          ]
        }
      ]
    },
    {
      "cell_type": "code",
      "source": [
        "# Graph it out!\n",
        "\n",
        "plt.plot(range(epochs), losses)\n",
        "plt.ylabel(\"loss/error\")\n",
        "plt.xlabel('Epoch')\n"
      ],
      "metadata": {
        "colab": {
          "base_uri": "https://localhost:8080/",
          "height": 470
        },
        "id": "2OOXjNOKrJ6j",
        "outputId": "4314616a-1830-40d5-b0c6-377ba38a90bd"
      },
      "execution_count": 74,
      "outputs": [
        {
          "output_type": "execute_result",
          "data": {
            "text/plain": [
              "Text(0.5, 0, 'Epoch')"
            ]
          },
          "metadata": {},
          "execution_count": 74
        },
        {
          "output_type": "display_data",
          "data": {
            "text/plain": [
              "<Figure size 640x480 with 1 Axes>"
            ],
            "image/png": "[encoded data removed]"
          },
          "metadata": {}
        }
      ]
    },
    {
      "cell_type": "code",
      "source": [
        "# Evaluate Model on Test Data Set (validate model on test set)\n",
        "\n",
        "with torch.no_grad():   # Basically turn off back propagation\n",
        "  y_eval = model.forward (X_test) #X_test are features from our test set, y_eval will be predications\n",
        "  loss = criterion (y_eval,y_test) # Find the loss or error\n"
      ],
      "metadata": {
        "id": "75M6WyEWzbGL"
      },
      "execution_count": 75,
      "outputs": []
    },
    {
      "cell_type": "code",
      "source": [
        "correct = 0;\n",
        "with torch.no_grad():\n",
        "  for i, data in enumerate(X_test):\n",
        "    y_val = model.forward(data)\n",
        "\n",
        "    if y_test[i] == 0:\n",
        "     x = \"Setosa\"\n",
        "    elif y_test[i] == 1:\n",
        "     x = \"Versicolor\"\n",
        "    else:\n",
        "     x = 'Verginica'\n",
        "\n",
        "    # will tell of us what type of flower class our network thinks it is\n",
        "    print(f'{i+1}.) {str(y_val)} \\t {y_test[i]} \\t {y_val.argmax().item()}')\n",
        "    # Correct or not\n",
        "\n",
        "    if y_val.argmax().item()  == y_test[i]:\n",
        "      correct += 1\n",
        "\n",
        "print(f'We got {correct} correct!')\n"
      ],
      "metadata": {
        "colab": {
          "base_uri": "https://localhost:8080/"
        },
        "id": "yZENsyMJ2l8W",
        "outputId": "177931ca-4b5d-4cc2-efb9-e7d1027fb175"
      },
      "execution_count": 76,
      "outputs": [
        {
          "output_type": "stream",
          "name": "stdout",
          "text": [
            "1.) tensor([-1.0789, -0.5200, -0.2834]) \t 2 \t 2\n",
            "2.) tensor([-0.8955, -0.4861, -0.2426]) \t 1 \t 2\n",
            "3.) tensor([-0.1033, -0.3111, -0.0691]) \t 0 \t 2\n",
            "4.) tensor([-0.9149, -0.4851, -0.2466]) \t 1 \t 2\n",
            "5.) tensor([-0.9131, -0.4646, -0.2534]) \t 2 \t 2\n",
            "6.) tensor([-0.1873, -0.2620, -0.0932]) \t 0 \t 2\n",
            "7.) tensor([-1.1089, -0.5098, -0.2837]) \t 1 \t 2\n",
            "8.) tensor([-0.8778, -0.4547, -0.2381]) \t 1 \t 2\n",
            "9.) tensor([-0.1489, -0.3290, -0.0752]) \t 0 \t 2\n",
            "10.) tensor([-0.9703, -0.4899, -0.2569]) \t 1 \t 2\n",
            "11.) tensor([-1.1312, -0.5107, -0.2926]) \t 1 \t 2\n",
            "12.) tensor([-0.9149, -0.4991, -0.2465]) \t 1 \t 2\n",
            "13.) tensor([-0.0932, -0.3440, -0.0619]) \t 0 \t 2\n",
            "14.) tensor([-1.3745, -0.5974, -0.3502]) \t 2 \t 2\n",
            "15.) tensor([-0.1480, -0.3137, -0.0762]) \t 0 \t 2\n",
            "16.) tensor([-0.9975, -0.5085, -0.2672]) \t 1 \t 2\n",
            "17.) tensor([-1.3502, -0.5413, -0.3381]) \t 2 \t 2\n",
            "18.) tensor([-1.1955, -0.5485, -0.3046]) \t 2 \t 2\n",
            "19.) tensor([-0.1338, -0.3447, -0.0699]) \t 0 \t 2\n",
            "20.) tensor([-0.0915, -0.3250, -0.0613]) \t 0 \t 2\n",
            "21.) tensor([-0.8324, -0.4350, -0.2283]) \t 1 \t 2\n",
            "22.) tensor([-1.2996, -0.5575, -0.3350]) \t 2 \t 2\n",
            "23.) tensor([-1.0085, -0.4930, -0.2631]) \t 1 \t 2\n",
            "24.) tensor([-1.1409, -0.4822, -0.2948]) \t 2 \t 2\n",
            "25.) tensor([-1.3326, -0.5628, -0.3273]) \t 2 \t 2\n",
            "26.) tensor([-1.0293, -0.4995, -0.2749]) \t 2 \t 2\n",
            "27.) tensor([-0.9336, -0.4671, -0.2478]) \t 1 \t 2\n",
            "28.) tensor([-0.8112, -0.4182, -0.2240]) \t 1 \t 2\n",
            "29.) tensor([-1.1078, -0.5063, -0.2932]) \t 2 \t 2\n",
            "30.) tensor([-1.2769, -0.5462, -0.3336]) \t 2 \t 2\n",
            "We got 11 correct!\n"
          ]
        }
      ]
    }
  ]
}